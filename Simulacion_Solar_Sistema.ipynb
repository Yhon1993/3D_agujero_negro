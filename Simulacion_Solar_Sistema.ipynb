{
 "cells": [
  {
   "cell_type": "markdown",
   "id": "0073f665",
   "metadata": {},
   "source": [
    "\n",
    "# Simulación del Sistema Solar con Python\n",
    "\n",
    "Este proyecto simula el sistema solar en dos dimensiones, incluyendo asteroides y otros cuerpos celestes. Utiliza gráficos interactivos para visualizar el movimiento de los cuerpos y simula las fuerzas gravitatorias entre ellos.\n"
   ]
  },
  {
   "cell_type": "markdown",
   "id": "a442dac0",
   "metadata": {},
   "source": [
    "\n",
    "## Requisitos\n",
    "\n",
    "Para poder ejecutar este código, necesitarás instalar las siguientes bibliotecas de Python:\n",
    "\n",
    "1. **matplotlib**: Para la visualización gráfica de los cuerpos.\n",
    "2. **ctypes**: Para habilitar el soporte de colores en Windows.\n",
    "3. **decimal**: Para cálculos de alta precisión.\n",
    "4. **numpy**: Para realizar cálculos matemáticos y trabajar con vectores.\n",
    "5. **json**: Para cargar y guardar archivos de configuración.\n",
    "\n",
    "Instala los paquetes necesarios con el siguiente comando:\n",
    "\n",
    "```bash\n",
    "pip install matplotlib numpy\n",
    "```\n"
   ]
  },
  {
   "cell_type": "markdown",
   "id": "9aa99fd8",
   "metadata": {},
   "source": [
    "\n",
    "## Estructura del Código\n",
    "\n",
    "### 1. **Importación de Librerías**\n",
    "\n",
    "El script comienza importando las bibliotecas necesarias, como `matplotlib` para gráficos, `random` para generar datos aleatorios (asteroides), `decimal` para cálculos precisos y `json` para leer/escribir archivos.\n"
   ]
  },
  {
   "cell_type": "code",
   "execution_count": null,
   "id": "c43b773e",
   "metadata": {},
   "outputs": [],
   "source": [
    "\n",
    "# Importación de librerías necesarias\n",
    "import matplotlib.pyplot as plt\n",
    "from matplotlib.animation import FuncAnimation\n",
    "from math import *\n",
    "from vectores import *\n",
    "from funciones_extra import *\n",
    "import time\n",
    "import random\n",
    "import colorsys\n",
    "import json\n",
    "import os\n",
    "import ctypes\n",
    "from decimal import Decimal, getcontext\n"
   ]
  },
  {
   "cell_type": "markdown",
   "id": "958b995b",
   "metadata": {},
   "source": [
    "\n",
    "### 2. **Configuración de la Consola (Opcional)**\n",
    "\n",
    "Para habilitar colores en la consola de Windows, se utiliza el módulo `ctypes`. Esto no es esencial para la simulación, pero proporciona una mejor experiencia visual en consola.\n"
   ]
  },
  {
   "cell_type": "code",
   "execution_count": null,
   "id": "0734e760",
   "metadata": {},
   "outputs": [],
   "source": [
    "\n",
    "# Habilitar el soporte de colores ANSI en la consola de Windows\n",
    "kernel32 = ctypes.windll.kernel32\n",
    "kernel32.SetConsoleMode(kernel32.GetStdHandle(-11), 7)\n"
   ]
  },
  {
   "cell_type": "markdown",
   "id": "6616d806",
   "metadata": {},
   "source": [
    "\n",
    "### 3. **Precisión Decimal**\n",
    "\n",
    "Se usa `decimal` para realizar cálculos numéricos con gran precisión (hasta 250 dígitos), lo que es necesario al simular cuerpos celestes que interactúan a grandes distancias.\n"
   ]
  },
  {
   "cell_type": "code",
   "execution_count": null,
   "id": "93ce23af",
   "metadata": {},
   "outputs": [],
   "source": [
    "\n",
    "# Configuración de la precisión decimal\n",
    "getcontext().prec = 250  # Precisión para los cálculos decimales\n"
   ]
  },
  {
   "cell_type": "markdown",
   "id": "4dcb5258",
   "metadata": {},
   "source": [
    "\n",
    "### 4. **Clases del Proyecto**\n",
    "\n",
    "#### **Clase Universo**\n"
   ]
  },
  {
   "cell_type": "code",
   "execution_count": null,
   "id": "bcb44d8f",
   "metadata": {},
   "outputs": [],
   "source": [
    "\n",
    "class Universo:\n",
    "    def __init__(self, fisica, grid):\n",
    "        self.fisica = fisica\n",
    "        self.grid = grid\n"
   ]
  },
  {
   "cell_type": "markdown",
   "id": "eb38d940",
   "metadata": {},
   "source": [
    "\n",
    "#### **Clase Física**\n",
    "\n",
    "Contiene los métodos para calcular la gravedad entre cuerpos y otras funciones físicas como la velocidad orbital y la aceleración.\n"
   ]
  },
  {
   "cell_type": "code",
   "execution_count": null,
   "id": "b01b606a",
   "metadata": {},
   "outputs": [],
   "source": [
    "\n",
    "class Fisica:\n",
    "    def __init__(self, g) -> None:\n",
    "        self.g = g\n",
    "    \n",
    "    def gravedad(self, cuerpo_a, cuerpo_b):\n",
    "        # Calcula la fuerza gravitacional entre dos cuerpos\n",
    "        pass\n"
   ]
  },
  {
   "cell_type": "markdown",
   "id": "fb7b4a54",
   "metadata": {},
   "source": [
    "\n",
    "#### **Clase Cuerpo**\n",
    "\n",
    "Representa cada cuerpo en la simulación, como planetas, asteroides, o el sol.\n"
   ]
  },
  {
   "cell_type": "code",
   "execution_count": null,
   "id": "65bc472e",
   "metadata": {},
   "outputs": [],
   "source": [
    "\n",
    "class Cuerpo:\n",
    "    def __init__(self, nombre, posicion, velocidad, masa, diam=None, exact=True):\n",
    "        self.nombre = nombre\n",
    "        self.posicion = posicion\n",
    "        self.velocidad = velocidad\n",
    "        self.masa = Decimal(masa)\n",
    "        self.color = colorsys.hsv_to_rgb(random.uniform(0, 1), 1, 1)\n"
   ]
  },
  {
   "cell_type": "markdown",
   "id": "17bdda52",
   "metadata": {},
   "source": [
    "\n",
    "#### **Clase Puntos**\n",
    "\n",
    "Maneja la visualización de los cuerpos en la simulación.\n"
   ]
  },
  {
   "cell_type": "code",
   "execution_count": null,
   "id": "407ee2e8",
   "metadata": {},
   "outputs": [],
   "source": [
    "\n",
    "class Puntos:\n",
    "    def __init__(self):\n",
    "        # Inicializa los gráficos y establece los ejes\n",
    "        pass\n"
   ]
  },
  {
   "cell_type": "markdown",
   "id": "3c0f29a5",
   "metadata": {},
   "source": [
    "\n",
    "### 5. **Simulación**\n",
    "\n",
    "#### **Constantes y Parámetros**\n"
   ]
  },
  {
   "cell_type": "code",
   "execution_count": null,
   "id": "87ff34c4",
   "metadata": {},
   "outputs": [],
   "source": [
    "\n",
    "g = Decimal('0.01')  # Constante de gravitación\n",
    "time_mode = True  # Modo de tiempo dinámico\n",
    "uniform_time = 0.1  # Tiempo constante para la simulación\n",
    "dot_scale = 1  # Escala para los puntos (visualización)\n",
    "view_scale = Vector2(150, 150)  # Escala de la vista\n"
   ]
  },
  {
   "cell_type": "markdown",
   "id": "b2448821",
   "metadata": {},
   "source": [
    "\n",
    "#### **Generación de Asteroides**\n"
   ]
  },
  {
   "cell_type": "code",
   "execution_count": null,
   "id": "e9c98d8b",
   "metadata": {},
   "outputs": [],
   "source": [
    "\n",
    "for i in range(100):  # Crea 100 asteroides aleatorios\n",
    "    n_posicion = Vector2(Decimal(random.uniform(-4558857000000, 4558857000000)), Decimal(random.uniform(-4558857000000, 4558857000000)))\n",
    "    # Continuar con la lógica de simulación...\n"
   ]
  },
  {
   "cell_type": "markdown",
   "id": "7ad7f711",
   "metadata": {},
   "source": [
    "\n",
    "### 6. **Bucle Principal**\n"
   ]
  },
  {
   "cell_type": "code",
   "execution_count": null,
   "id": "d828f69b",
   "metadata": {},
   "outputs": [],
   "source": [
    "\n",
    "while True:\n",
    "    # Lógica principal de simulación\n",
    "    pass\n"
   ]
  },
  {
   "cell_type": "markdown",
   "id": "b238fd4f",
   "metadata": {},
   "source": [
    "\n",
    "### 7. **Guardado Automático**\n",
    "\n",
    "Si la opción `active_save` está activada, el estado de la simulación se guarda en un archivo JSON después de un número determinado de ciclos.\n"
   ]
  },
  {
   "cell_type": "code",
   "execution_count": null,
   "id": "d4e65963",
   "metadata": {},
   "outputs": [],
   "source": [
    "\n",
    "if active_save:\n",
    "    datos = crear_archivo_json_de_sim(todos_los_cuerpos, ciclos)\n",
    "    with open(save_in, 'w') as archivo:\n",
    "        json.dump(datos, archivo, indent=4)\n"
   ]
  }
 ],
 "metadata": {},
 "nbformat": 4,
 "nbformat_minor": 5
}
