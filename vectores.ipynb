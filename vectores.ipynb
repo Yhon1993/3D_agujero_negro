{
 "cells": [
  {
   "cell_type": "markdown",
   "id": "e1424916",
   "metadata": {},
   "source": [
    "\n",
    "# Simulación de Vectores y Grids en 2D\n",
    "\n",
    "Este código incluye clases para simular vectores 2D y una grid infinita. Las funciones permiten realizar operaciones matemáticas con vectores, así como gestionar el almacenamiento y consulta de datos en una grilla 2D.\n"
   ]
  },
  {
   "cell_type": "markdown",
   "id": "962296c7",
   "metadata": {},
   "source": [
    "\n",
    "## Importación de Librerías\n",
    "\n",
    "Se importan las bibliotecas necesarias para cálculos matemáticos y uso de decimales de alta precisión.\n"
   ]
  },
  {
   "cell_type": "code",
   "execution_count": null,
   "id": "64feb283",
   "metadata": {},
   "outputs": [],
   "source": [
    "\n",
    "import math\n",
    "from decimal import Decimal, getcontext\n",
    "import numpy as np\n"
   ]
  },
  {
   "cell_type": "markdown",
   "id": "f60df43e",
   "metadata": {},
   "source": [
    "\n",
    "## Funciones de Distancia\n",
    "\n",
    "Se definen dos funciones para calcular la distancia entre dos vectores: `distancia` y `Decimal_distancia`. La primera usa valores flotantes, mientras que la segunda utiliza decimales de alta precisión.\n"
   ]
  },
  {
   "cell_type": "code",
   "execution_count": null,
   "id": "d6de516e",
   "metadata": {},
   "outputs": [],
   "source": [
    "\n",
    "def distancia(vect1, vect2):\n",
    "    v = vect1 - vect2\n",
    "    return math.sqrt(v.x ** 2 + v.y **2)\n",
    "\n",
    "def Decimal_distancia(vect1, vect2):\n",
    "    v = vect1 - vect2\n",
    "    return Decimal(math.sqrt(v.x ** 2 + v.y **2))\n"
   ]
  },
  {
   "cell_type": "markdown",
   "id": "1d80b525",
   "metadata": {},
   "source": [
    "\n",
    "## Verificación de Cercanía entre Vectores\n",
    "\n",
    "La función `verificar_cercania` verifica si dos vectores están dentro de un rango de discrepancia especificado.\n"
   ]
  },
  {
   "cell_type": "code",
   "execution_count": null,
   "id": "99b6e767",
   "metadata": {},
   "outputs": [],
   "source": [
    "\n",
    "def verificar_cercania(vect_comprovar, vect2, discrepancia):\n",
    "    if float(vect_comprovar.x) - discrepancia <= float(vect2.x) and float(vect_comprovar.x) + discrepancia >= float(vect2.x):\n",
    "        if float(vect_comprovar.y) - discrepancia <= float(vect2.y) and float(vect_comprovar.y) + discrepancia >= float(vect2.y):\n",
    "            return True\n",
    "        else:\n",
    "            return False\n",
    "    else:\n",
    "        return False\n"
   ]
  },
  {
   "cell_type": "markdown",
   "id": "459222bd",
   "metadata": {},
   "source": [
    "\n",
    "## Clase `Vector2`\n",
    "\n",
    "La clase `Vector2` define un vector en 2D con métodos para realizar operaciones básicas como suma, multiplicación, división, resta, y calcular la magnitud del vector.\n"
   ]
  },
  {
   "cell_type": "code",
   "execution_count": null,
   "id": "0b5dc80d",
   "metadata": {},
   "outputs": [],
   "source": [
    "\n",
    "class Vector2:\n",
    "    def __init__(self,x,y):\n",
    "        self.x = x\n",
    "        self.y = y\n",
    "    \n",
    "    def magnitud(self):\n",
    "        return Decimal(math.sqrt(self.x ** 2 + self.y ** 2))\n",
    "    \n",
    "    def __add__(self, otro_vector):\n",
    "        return Vector2(Decimal(self.x) + Decimal(otro_vector.x), Decimal(self.y) + Decimal(otro_vector.y))\n",
    "    \n",
    "    def __mul__(self, escalar):\n",
    "        return Vector2(Decimal(self.x) * Decimal(escalar), Decimal(self.y) * Decimal(escalar))\n",
    "    \n",
    "    def __truediv__(self, escalar):\n",
    "        return Vector2(self.x / Decimal(escalar), self.y / Decimal(escalar))\n",
    "    \n",
    "    def __sub__(self, otro_vector):\n",
    "        return Vector2(Decimal(self.x) - Decimal(otro_vector.x), Decimal(self.y) - Decimal(otro_vector.y))\n",
    "    \n",
    "    def __str__(self):\n",
    "        return f\"({self.x}, {self.y})\"\n"
   ]
  },
  {
   "cell_type": "markdown",
   "id": "e57c6bab",
   "metadata": {},
   "source": [
    "\n",
    "## Clase `Casillero`\n",
    "\n",
    "La clase `Casillero` almacena la posición y el valor de un objeto en una grilla. También calcula el centro de masa de los objetos en esa posición.\n"
   ]
  },
  {
   "cell_type": "code",
   "execution_count": null,
   "id": "fe10cdb2",
   "metadata": {},
   "outputs": [],
   "source": [
    "\n",
    "class Casillero:\n",
    "    '''Contiene los datos de un casillero'''\n",
    "    \n",
    "    def __init__(self, posicion, valor, masa):\n",
    "        self.posicion = posicion\n",
    "        self.valor = valor\n",
    "        self.masa = masa\n",
    "        \n",
    "    def centro_de_masa(self):\n",
    "        # Inicializar variables para el numerador en 2D\n",
    "        numerador_x = 0\n",
    "        numerador_y = 0\n",
    "        \n",
    "        # Calcular el numerador en 2D\n",
    "        for i in self.valor:\n",
    "            numerador_x += i.masa * i.posicion.x\n",
    "            numerador_y += i.masa * i.posicion.y\n",
    "\n",
    "        # Calcular el centro de masa en 2D\n",
    "        masas = [a.masa for a in self.valor]\n",
    "        denominador = sum(masas)\n",
    "        centro_de_masa = Vector2(numerador_x / denominador, numerador_y / denominador)\n",
    "\n",
    "        return centro_de_masa\n"
   ]
  },
  {
   "cell_type": "markdown",
   "id": "8e17275a",
   "metadata": {},
   "source": [
    "\n",
    "## Clase `Grid`\n",
    "\n",
    "La clase `Grid` es una grilla infinita que permite almacenar objetos en posiciones discretas 2D y realizar operaciones como obtener el valor en una posición o añadir valores a una lista en una posición dada.\n"
   ]
  },
  {
   "cell_type": "code",
   "execution_count": null,
   "id": "dfce04c0",
   "metadata": {},
   "outputs": [],
   "source": [
    "\n",
    "class Grid:\n",
    "    '''Una grid infinita'''\n",
    "    \n",
    "    def __init__(self, filas, columnas, tamaño):\n",
    "        self.filas = filas\n",
    "        self.columnas = columnas\n",
    "        self.tamaño = tamaño / columnas\n",
    "        self.grid = {}\n",
    "    \n",
    "    def get_value(self, posicion):\n",
    "        '''retornar el valor en la posicion (si no hay un valor asignado para la posicion se devuelve None)'''\n",
    "        return self.grid.get((posicion.x, posicion.y), None)\n",
    "    \n",
    "    def set_value(self, posicion, value):\n",
    "        '''el valor en una posicion va ser igual a el valor otorgado'''\n",
    "        self.grid[(posicion.x, posicion.y)] = value\n",
    "    \n",
    "    def actualizar(self, objetos):\n",
    "        self.grid.clear()\n",
    "        for objeto in objetos:\n",
    "            posicion = self.calcular_posicion(objeto.posicion)\n",
    "            self.añadir_un_valor_a_la_posicion(posicion,objeto)\n",
    "    \n",
    "    def añadir_un_valor_a_la_posicion(self, posicion, valor):\n",
    "        '''Esta funcion te permite hacer un .append a una lista que se encuentre en la posicion'''\n",
    "        if (posicion.x,posicion.y) in self.grid:\n",
    "            self.grid[(posicion.x,posicion.y)].append(valor)\n",
    "        else:\n",
    "            self.set_value(posicion,[valor])\n",
    "    \n",
    "    def get_all(self):\n",
    "        '''retornar una lista iterable de todas las posiciones'''\n",
    "        todos = []\n",
    "        for key, value in self.grid.items():\n",
    "            masa = 0\n",
    "            for i in self.get_value(Vector2(key[0],key[1])):\n",
    "                masa += i.masa\n",
    "                \n",
    "        for key, value in self.grid.items():\n",
    "            nuevo = Casillero(Vector2(key[0], key[1]), value, masa)\n",
    "            todos.append(nuevo)\n",
    "        \n",
    "        return todos\n",
    "    \n",
    "    def calcular_posicion(self,posicion):\n",
    "        '''Devuelve la posicion en la grid teniendo en cuenta el tamaño de cada cuadrado'''\n",
    "        tamaño_decimal = Decimal(str(self.tamaño))\n",
    "        fila = int(posicion.y.to_integral_value() // tamaño_decimal)\n",
    "        columna = int(posicion.x.to_integral_value() // tamaño_decimal)\n",
    "        return Vector2(columna, fila)\n"
   ]
  },
  {
   "cell_type": "markdown",
   "id": "a80c0c08",
   "metadata": {},
   "source": [
    "\n",
    "## Clase `plano_vectorial`\n",
    "\n",
    "La clase `plano_vectorial` define un plano con límites mínimos y máximos en los ejes x e y. Incluye un método para dividir el plano en fragmentos (chunks) de un tamaño especificado.\n"
   ]
  },
  {
   "cell_type": "code",
   "execution_count": null,
   "id": "3f5600e4",
   "metadata": {},
   "outputs": [],
   "source": [
    "\n",
    "class plano_vectorial:\n",
    "    def __init__(self,x_min,y_min, x_max, y_max):\n",
    "        self.x = (x_min, x_max)\n",
    "        self.y = (y_min, y_max)\n",
    "    \n",
    "    def dividir_en_chuncks(self, cantidad):\n",
    "        tamaño_x = abs(self.x[0] - self.x[1]) / cantidad[0]\n",
    "        tamaño_y = abs(self.x[0] - self.x[1]) / cantidad[1]\n",
    "        \n",
    "        return Vector2(tamaño_x, tamaño_y)\n",
    "    \n",
    "    def __str__(self):\n",
    "        return f\"P[x = {self.x}, y = {self.y}]\"\n"
   ]
  }
 ],
 "metadata": {},
 "nbformat": 4,
 "nbformat_minor": 5
}
