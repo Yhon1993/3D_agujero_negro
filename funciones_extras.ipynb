{
 "cells": [
  {
   "cell_type": "markdown",
   "id": "37e2c0c5",
   "metadata": {},
   "source": [
    "\n",
    "# Funciones Extra y Manejo de Errores\n",
    "\n",
    "Este código incluye funciones adicionales y manejo de errores. Se define una clase personalizada `cnfloat`, una serie de funciones para validar entradas y algunos colores para el manejo de texto en la consola.\n"
   ]
  },
  {
   "cell_type": "markdown",
   "id": "423aa2cf",
   "metadata": {},
   "source": [
    "\n",
    "## Importación de Librerías\n",
    "\n",
    "Se importan las bibliotecas necesarias para manejar JSON y generar números aleatorios.\n"
   ]
  },
  {
   "cell_type": "code",
   "execution_count": null,
   "id": "ea9b4cb2",
   "metadata": {},
   "outputs": [],
   "source": [
    "\n",
    "# este codigo contiene algunas funciones y variables extra\n",
    "import json\n",
    "from random import *\n"
   ]
  },
  {
   "cell_type": "markdown",
   "id": "edf601b0",
   "metadata": {},
   "source": [
    "\n",
    "## Clase `cnfloat`\n",
    "\n",
    "Esta clase define un número en notación científica, con un método para sumar (`__add__`) y otro para convertir el número a una cadena (`__str__`).\n"
   ]
  },
  {
   "cell_type": "code",
   "execution_count": null,
   "id": "3d078c95",
   "metadata": {},
   "outputs": [],
   "source": [
    "\n",
    "class cnfloat:\n",
    "    def __init__(self, numero, e):\n",
    "        self.n1 = numero\n",
    "        self.e = e\n",
    "\n",
    "    def __add__(self, otro):\n",
    "        pass\n",
    "    \n",
    "    def __str__(self):\n",
    "        return str(self.n1) + \"e\" + str(self.e)\n"
   ]
  },
  {
   "cell_type": "markdown",
   "id": "92f3994b",
   "metadata": {},
   "source": [
    "\n",
    "## Lista de Errores\n",
    "\n",
    "Aquí se define una lista de errores comunes que pueden ser usados para mostrar mensajes en el programa.\n"
   ]
  },
  {
   "cell_type": "code",
   "execution_count": null,
   "id": "0bb360d3",
   "metadata": {},
   "outputs": [],
   "source": [
    "\n",
    "tipos_de_errores = [\n",
    "    \"Error de tipo de dato\", # 0\n",
    "    \"Error de sintaxis\", # 1\n",
    "    \"Error de valor\", # 2\n",
    "    \"Error de input\" # 3\n",
    "]\n"
   ]
  },
  {
   "cell_type": "markdown",
   "id": "b27ff1db",
   "metadata": {},
   "source": [
    "\n",
    "## Diccionario de Colores para Consola\n",
    "\n",
    "Un diccionario que contiene diferentes códigos ANSI para colores de texto en consola.\n"
   ]
  },
  {
   "cell_type": "code",
   "execution_count": null,
   "id": "52b6a568",
   "metadata": {},
   "outputs": [],
   "source": [
    "\n",
    "c = {\n",
    "    'negro': '\u001b[1;30m',\n",
    "    'rojo': '\u001b[1;31m',\n",
    "    'verde': '\u001b[1;32m',\n",
    "    'amarillo': '\u001b[1;33m',\n",
    "    'azul': '\u001b[1;34m',\n",
    "    'morado': '\u001b[1;35m',\n",
    "    'cian': '\u001b[1;36m',\n",
    "    'blanco': '\u001b[1;37m',\n",
    "    'default': '\u001b[0;37m',\n",
    "}\n"
   ]
  },
  {
   "cell_type": "markdown",
   "id": "4be4fdb8",
   "metadata": {},
   "source": [
    "\n",
    "## Función para Crear una Cadena Aleatoria\n",
    "\n",
    "La función `crear_string_random` genera una cadena aleatoria con letras y números de un largo determinado.\n"
   ]
  },
  {
   "cell_type": "code",
   "execution_count": null,
   "id": "8802f496",
   "metadata": {},
   "outputs": [],
   "source": [
    "\n",
    "letras_numeros = \"abcdefghijklmnopqrstuvwxyz0123456789\"\n",
    "\n",
    "def crear_string_random(largo):\n",
    "    str_random = \"\"\n",
    "    for i in range(largo):\n",
    "        str_random += letras_numeros[randint(0, len(letras_numeros) -1)]\n",
    "    return str_random\n"
   ]
  },
  {
   "cell_type": "markdown",
   "id": "220de68c",
   "metadata": {},
   "source": [
    "\n",
    "## Validaciones de Entrada Numérica\n",
    "\n",
    "Dos funciones `es_numero` y `es_numero_int` que verifican si una cadena puede ser convertida a número flotante o entero, respectivamente.\n"
   ]
  },
  {
   "cell_type": "code",
   "execution_count": null,
   "id": "cc01837d",
   "metadata": {},
   "outputs": [],
   "source": [
    "\n",
    "# verificar si una string es combertible a float\n",
    "def es_numero(cadena):\n",
    "    try:\n",
    "        float(cadena)\n",
    "        return True\n",
    "    except ValueError:\n",
    "        return False\n",
    "\n",
    "# verificar si una string es combertible a int\n",
    "def es_numero_int(cadena):\n",
    "    try:\n",
    "        int(cadena)\n",
    "        return True\n",
    "    except ValueError:\n",
    "        return False\n"
   ]
  },
  {
   "cell_type": "markdown",
   "id": "b069406b",
   "metadata": {},
   "source": [
    "\n",
    "## Función para Imprimir Errores\n",
    "\n",
    "La función `print_error` imprime errores con el color rojo utilizando el diccionario de colores.\n"
   ]
  },
  {
   "cell_type": "code",
   "execution_count": null,
   "id": "b7983d19",
   "metadata": {},
   "outputs": [],
   "source": [
    "\n",
    "def print_error(tipo_de_error, mensaje_extra = \"\"):\n",
    "    if mensaje_extra != \"\":\n",
    "        print(f\"{c['rojo']}{tipo_de_error}: {mensaje_extra}{c['default']}\")\n",
    "    else:\n",
    "        print(f\"{c['rojo']}{tipo_de_error}{c['default']}\")\n"
   ]
  },
  {
   "cell_type": "markdown",
   "id": "c9f65a5f",
   "metadata": {},
   "source": [
    "\n",
    "## Funciones para Crear Archivos JSON\n",
    "\n",
    "Se incluyen dos funciones: `crear_archivo_json` y `crear_archivo_json_de_sim`. La primera genera un archivo JSON con los datos de cuerpos y sus propiedades, y la segunda almacena las posiciones de los cuerpos durante la simulación.\n"
   ]
  },
  {
   "cell_type": "code",
   "execution_count": null,
   "id": "5a09b5a7",
   "metadata": {},
   "outputs": [],
   "source": [
    "\n",
    "def crear_archivo_json(lista_de_cuerpos, gravitacion_universal):\n",
    "    cuerpos = []\n",
    "    \n",
    "    for item in lista_de_cuerpos:\n",
    "        diccionario_para_un_cuerpo = {\n",
    "            \"nombre\": item.nombre,\n",
    "            \"posicion\": {\n",
    "                \"x\": float(item.posicion.x),\n",
    "                \"y\": float(item.posicion.y)\n",
    "            },\n",
    "            \"velocidad\": {\n",
    "                \"x\": float(item.velocidad.x),\n",
    "                \"y\": float(item.velocidad.y)\n",
    "            },\n",
    "            \"masa\": float(item.masa),\n",
    "            \"diametro\": float(item.diametro)\n",
    "        }\n",
    "        cuerpos.append(diccionario_para_un_cuerpo)\n",
    "    \n",
    "    archivo = {\n",
    "        \"cuerpos\": cuerpos,\n",
    "        \"G\": float(gravitacion_universal)\n",
    "    }\n",
    "    return archivo\n"
   ]
  },
  {
   "cell_type": "code",
   "execution_count": null,
   "id": "64994bfb",
   "metadata": {},
   "outputs": [],
   "source": [
    "\n",
    "def crear_archivo_json_de_sim(lista_de_cuerpos, ciclos):\n",
    "    cuerpos = {}\n",
    "    \n",
    "    for item in lista_de_cuerpos:\n",
    "        \n",
    "        posiciones = []\n",
    "        for pos in item.posiciones:\n",
    "            pos_bien = {\n",
    "                \"x\": float(pos.x),\n",
    "                \"y\": float(pos.y)\n",
    "            }\n",
    "            posiciones.append(pos_bien)\n",
    "            \n",
    "        cuerpos[item.nombre] = posiciones\n",
    "    \n",
    "    archivo = {\n",
    "        \"cuerpos\": cuerpos,\n",
    "        \"ciclos\": ciclos\n",
    "    }\n",
    "    return archivo\n"
   ]
  }
 ],
 "metadata": {},
 "nbformat": 4,
 "nbformat_minor": 5
}
